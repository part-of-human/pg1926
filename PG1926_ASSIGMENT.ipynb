{
  "nbformat": 4,
  "nbformat_minor": 0,
  "metadata": {
    "colab": {
      "name": "PG1926 ASSIGMENT",
      "provenance": [],
      "collapsed_sections": [],
      "authorship_tag": "ABX9TyMDxHRws7drbclQRXbZMq5D",
      "include_colab_link": true
    },
    "kernelspec": {
      "name": "python3",
      "display_name": "Python 3"
    }
  },
  "cells": [
    {
      "cell_type": "markdown",
      "metadata": {
        "id": "view-in-github",
        "colab_type": "text"
      },
      "source": [
        "<a href=\"https://colab.research.google.com/github/part-of-human/pg1926/blob/main/PG1926_ASSIGMENT.ipynb\" target=\"_parent\"><img src=\"https://colab.research.google.com/assets/colab-badge.svg\" alt=\"Open In Colab\"/></a>"
      ]
    },
    {
      "cell_type": "code",
      "metadata": {
        "id": "JUtD-nn4Q4Ej"
      },
      "source": [
        "#ödev 1: 5'e 3'e bölünenler problemi\r\n",
        "\r\n",
        "x = int(input(\"Baslangic sayisini giriniz:\"))\r\n",
        "y = int(input(\"Sonuncu sayiyi giriniz:\"))\r\n",
        "z = 1\r\n",
        "if x % 15 == 0:\r\n",
        "  print(\"FizzBuzz\")\r\n",
        "elif x % 3 == 0:\r\n",
        "  print(\"Fizz\")\r\n",
        "elif x % 5 == 0:\r\n",
        "  print(\"Buzz\")\r\n",
        "else:\r\n",
        "  print(x)\r\n",
        "\r\n",
        "while x < y:\r\n",
        "  x += 1\r\n",
        "  if x % 15 == 0:\r\n",
        "    print (\"FizzBuzz\")\r\n",
        "  elif x % 3 == 0:\r\n",
        "    print(\"Fizz\")\r\n",
        "  elif x % 5 == 0:\r\n",
        "    print(\"Buzz\")\r\n",
        "  else:\r\n",
        "    print(x)"
      ],
      "execution_count": null,
      "outputs": []
    },
    {
      "cell_type": "code",
      "metadata": {
        "id": "YrTVd1jMUBlf"
      },
      "source": [
        "\r\n",
        "#ödev 3: 0 harici elemanların sırası bozulmadan 0'ı başa getirme\r\n",
        "\r\n",
        "liste = []\r\n",
        "b = int(input(\"Toplam kaç sayı gireceksiniz?:\"))\r\n",
        "k = 0\r\n",
        "while k < b:\r\n",
        "  k+=1\r\n",
        "  liste.append(int(input(\"Her sayıyı teker teker giriniz:\")))\r\n",
        "\r\n",
        "if 0 in liste:\r\n",
        "  a = liste.count(0)\r\n",
        "\r\n",
        "l=0\r\n",
        "while l<a:\r\n",
        "  liste.remove(0);\r\n",
        "  l= l+1\r\n",
        "\r\n",
        "liste.reverse()\r\n",
        "\r\n",
        "m=0\r\n",
        "while m<a:\r\n",
        "  liste.append(0);\r\n",
        "  m=m+1\r\n",
        "\r\n",
        "liste.reverse()\r\n",
        "print(liste)"
      ],
      "execution_count": null,
      "outputs": []
    },
    {
      "cell_type": "code",
      "metadata": {
        "colab": {
          "base_uri": "https://localhost:8080/"
        },
        "id": "GcTNrtBlEjrj",
        "outputId": "6579e4de-136b-4541-fe59-3b1844f1dfe8"
      },
      "source": [
        "#ödev 4: en büyük sayıyı ekrana yazdırma\r\n",
        "\r\n",
        "x = []\r\n",
        "b = int(input(\"Toplam kaç sayı gireceksiniz?:\"))\r\n",
        "k = 0\r\n",
        "while k < b:\r\n",
        "  k+=1\r\n",
        "  x.append(int(input(\"Her sayıyı teker teker giriniz:\")))\r\n",
        "x.sort()\r\n",
        "print(x[-1])"
      ],
      "execution_count": null,
      "outputs": [
        {
          "output_type": "stream",
          "text": [
            "Toplam kaç sayı gireceksiniz?:3\n",
            "Her sayıyı teker teker giriniz:0\n",
            "Her sayıyı teker teker giriniz:0\n",
            "Her sayıyı teker teker giriniz:45\n",
            "45\n"
          ],
          "name": "stdout"
        }
      ]
    }
  ]
}